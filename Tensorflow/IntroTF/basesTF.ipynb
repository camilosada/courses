{
 "metadata": {
  "language_info": {
   "codemirror_mode": {
    "name": "ipython",
    "version": 3
   },
   "file_extension": ".py",
   "mimetype": "text/x-python",
   "name": "python",
   "nbconvert_exporter": "python",
   "pygments_lexer": "ipython3",
   "version": "3.8.5-final"
  },
  "orig_nbformat": 2,
  "kernelspec": {
   "name": "python3",
   "display_name": "Python 3",
   "language": "python"
  }
 },
 "nbformat": 4,
 "nbformat_minor": 2,
 "cells": [
  {
   "cell_type": "code",
   "execution_count": 4,
   "metadata": {},
   "outputs": [
    {
     "output_type": "stream",
     "name": "stdout",
     "text": [
      "WARNING:tensorflow:From C:\\Users\\camil\\AppData\\Roaming\\Python\\Python38\\site-packages\\tensorflow\\python\\compat\\v2_compat.py:96: disable_resource_variables (from tensorflow.python.ops.variable_scope) is deprecated and will be removed in a future version.\nInstructions for updating:\nnon-resource variables are not supported in the long term\n"
     ]
    }
   ],
   "source": [
    "import tensorflow.compat.v1 as tf # para que me deje hacer el curso con tf1\n",
    "tf.disable_v2_behavior() "
   ]
  },
  {
   "source": [
    "1. Importacion o generacion del conjunto de datos\n",
    "2. Transformacion y normalización de los datos\n",
    "3. Dividir el conjunto de datos en conjunto de entrenamiento, validacion y test\n",
    "4. definir los hiperparámetros del algoritmo"
   ],
   "cell_type": "markdown",
   "metadata": {}
  },
  {
   "cell_type": "code",
   "execution_count": 2,
   "metadata": {},
   "outputs": [],
   "source": [
    "lerning_rate = 0.01\n",
    "batch_size = 50\n",
    "iterations = 10000"
   ]
  },
  {
   "source": [
    "5. Iniciar variables y placeholders"
   ],
   "cell_type": "markdown",
   "metadata": {}
  },
  {
   "cell_type": "code",
   "execution_count": 5,
   "metadata": {},
   "outputs": [],
   "source": [
    "# en tf2 esto se hace de forma automática por eso no existe placeholder\n",
    "x= tf.constant(30)\n",
    "x_input = tf.placeholder(tf.float32,[None, 3]) \n",
    "y_input = tf.placeholder(tf.float32, [None,5])"
   ]
  },
  {
   "source": [
    "6. Definir la estructura el modelo del algoritmo\n",
    "7. Declara la funcion de perdidas (loss function)\n",
    "8. Inicializar y entrenar el modelo anterior\n",
    "9. Evaluacion del modelo\n",
    "10. Ajustar los hiperparametros\n",
    "11. Publicar (subir a produccion) y predecir nuevos resultados"
   ],
   "cell_type": "markdown",
   "metadata": {}
  },
  {
   "cell_type": "code",
   "execution_count": null,
   "metadata": {},
   "outputs": [],
   "source": []
  }
 ]
}